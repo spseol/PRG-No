{
 "cells": [
  {
   "cell_type": "markdown",
   "id": "81d31b42",
   "metadata": {},
   "source": [
    "Tkinter\n",
    "=============\n",
    "\n",
    "* <http://tkinter.programujte.com/>\n",
    "* <http://tkinter.py.cz/>\n",
    "* <http://infohost.nmt.edu/tcc/help/pubs/tkinter/web/index.html>\n",
    "* <https://docs.python.org/3/library/tkinter.html>\n",
    "* <https://docs.python.org/3/library/tkinter.ttk.html>\n",
    "\n",
    "\n",
    "Helo World\n",
    "---------------"
   ]
  },
  {
   "cell_type": "code",
   "execution_count": null,
   "id": "b76a5588",
   "metadata": {},
   "outputs": [],
   "source": [
    "from os.path import basename, splitext\n",
    "import tkinter as tk\n",
    "# from tkinter import ttk\n",
    "\n",
    "\n",
    "class Application(tk.Tk):\n",
    "    name = basename(splitext(basename(__file__.capitalize()))[0])\n",
    "    name = 'Foo'\n",
    "\n",
    "    def __init__(self):\n",
    "        super().__init__(className=self.name)\n",
    "        self.title(self.name)\n",
    "        self.bind(\"<Escape>\", self.quit)\n",
    "        self.lbl = tk.Label(self, text=\"Hello World\")\n",
    "        self.lbl.pack()\n",
    "        self.btn = tk.Button(self, text='Quit', command=self.quit)\n",
    "        self.btn.pack()\n",
    "\n",
    "    def quit(self, event=None):\n",
    "        super().quit()\n",
    "\n",
    "\n",
    "app = Application()\n",
    "app.mainloop()\n"
   ]
  }
 ],
 "metadata": {},
 "nbformat": 4,
 "nbformat_minor": 5
}
