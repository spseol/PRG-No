{
 "cells": [
  {
   "cell_type": "markdown",
   "metadata": {},
   "source": [
    "# Řetězce -- str()\n",
    "\n",
    "Datový typ `str` -- řetězec  se zapisuje do uvozovek `\"` nebo apostrofů `'`. Trojité uvozovky/apostrofy\n",
    "začínají/končí více-řádkové řetězce. Speciální znaky jsou uvozeny zpětným\n",
    "lomítkem. "
   ]
  },
  {
   "cell_type": "code",
   "execution_count": null,
   "metadata": {
    "collapsed": true
   },
   "outputs": [],
   "source": [
    ">>> s = 'Ahoj Karle'\n",
    ">>> s\n",
    "'Ahoj Karle'\n",
    ">>> s = \"Ahoj Karle\"\n",
    ">>> s\n",
    "'Ahoj Karle'\n",
    ">>> s = \"znak apostrof: ' \"\n",
    ">>> s\n",
    "\"znak apostrof: ' \"\n",
    ">>> s = \"znak uvozovka: \\\" \"\n",
    ">>> s\n",
    "'znak uvozovka: \" '\n",
    ">>> s = \"ahoj\\nnazdar\\n\\tcau\"\n",
    ">>> print s\n",
    "ahoj\n",
    "nazdar\n",
    "\tcau"
   ]
  },
  {
   "cell_type": "markdown",
   "metadata": {},
   "source": [
    "## Speciální znaky\n",
    "\n",
    "\n",
    "zápis   | význam\n",
    ":------:|------------\n",
    "`\\n`    | konec řádku\n",
    "`\\r`    | návrat vozíku\n",
    "`\\t`    | tabulátor\n",
    "`\\\\`    | a zpětné lomítko\n",
    "`\\\"`    | uvozovka\n",
    "`\\'`    | apostrof\n",
    "`\\x`*hh*| znak se zadanou hexadecimální hodnotou: např. `\\x40` je @\n",
    "`\\u`*hhhh*  | 16-bitový znak [Unicode](https://cs.wikipedia.org/wiki/Unicode)\n",
    "`\\U`*hhhhhhhh* | 32-bitový znak [Unicode](https://cs.wikipedia.org/wiki/Unicode)\n",
    "\n",
    "### RAW retězce\n",
    "\n",
    "Někdy se stává, že je potřebujeme zapsat řetězec, který obsahuje hodně zpětných lomítek.\n",
    "Nebo chceme zapsat speciální znaky, které ve skutečnosti nebudou speciální. `:-)`\n",
    "(Například [regulární výraz](https://cs.wikipedia.org/wiki/Regul%C3%A1rn%C3%AD_v%C3%BDraz))\n",
    "Pro tyto případy existuje predpona `r` (jako RAW), která zruší všechny speciální znaky."
   ]
  },
  {
   "cell_type": "code",
   "execution_count": 85,
   "metadata": {
    "collapsed": false
   },
   "outputs": [
    {
     "name": "stdout",
     "output_type": "stream",
     "text": [
      "ahoj\\nnazdar\\n\\tcau\n"
     ]
    }
   ],
   "source": [
    "s = r\"ahoj\\nnazdar\\n\\tcau\"\n",
    "print(s)"
   ]
  },
  {
   "cell_type": "code",
   "execution_count": 86,
   "metadata": {
    "collapsed": false
   },
   "outputs": [
    {
     "name": "stdout",
     "output_type": "stream",
     "text": [
      "\\w{3}\\d{5}\n"
     ]
    }
   ],
   "source": [
    "login = r'\\w{3}\\d{5}'\n",
    "print(login)"
   ]
  },
  {
   "cell_type": "markdown",
   "metadata": {},
   "source": [
    "## Výřezy\n",
    "\n",
    "Řetězec je posloupnost (tedy vlastně seznam) znaků. Proto `str()` řadíme mezi\n",
    "seznamové datové typy.\n",
    "Se všemi seznamovými datovými typy můžeme provádět vyřezy \n",
    "tzv. [slice](https://docs.python.org/3/library/functions.html?highlight=slice#slice).\n",
    "\n",
    "```\n",
    "index\n",
    "  -9  -8  -7  -6  -5  -4  -3  -2  -1\n",
    "   0   1   2   3   4   5   6   7   8  \n",
    " +---+---+---+---+---+---+---+---+---+\n",
    " | P | y | t | h | o | n |   | A | B | \n",
    " +---+---+---+---+---+---+---+---+---+\n",
    "výřez\n",
    " :   1   2   3   4   5   6   7   8   :\n",
    " :  -8  -7  -6  -5  -4  -3  -2  -1   :\n",
    "\n",
    "```"
   ]
  },
  {
   "cell_type": "code",
   "execution_count": 6,
   "metadata": {
    "collapsed": false
   },
   "outputs": [
    {
     "data": {
      "text/plain": [
       "'o'"
      ]
     },
     "execution_count": 6,
     "metadata": {},
     "output_type": "execute_result"
    }
   ],
   "source": [
    "s = 'Python AB'\n",
    "s[4]"
   ]
  },
  {
   "cell_type": "code",
   "execution_count": 7,
   "metadata": {
    "collapsed": false
   },
   "outputs": [
    {
     "data": {
      "text/plain": [
       "'h'"
      ]
     },
     "execution_count": 7,
     "metadata": {},
     "output_type": "execute_result"
    }
   ],
   "source": [
    "s[-6]"
   ]
  },
  {
   "cell_type": "code",
   "execution_count": 8,
   "metadata": {
    "collapsed": false
   },
   "outputs": [
    {
     "data": {
      "text/plain": [
       "'thon A'"
      ]
     },
     "execution_count": 8,
     "metadata": {},
     "output_type": "execute_result"
    }
   ],
   "source": [
    "s[2:8]"
   ]
  },
  {
   "cell_type": "code",
   "execution_count": 11,
   "metadata": {
    "collapsed": false
   },
   "outputs": [
    {
     "data": {
      "text/plain": [
       "'hon'"
      ]
     },
     "execution_count": 11,
     "metadata": {},
     "output_type": "execute_result"
    }
   ],
   "source": [
    "s[3:-3]"
   ]
  },
  {
   "cell_type": "code",
   "execution_count": 10,
   "metadata": {
    "collapsed": false
   },
   "outputs": [
    {
     "data": {
      "text/plain": [
       "'Pytho'"
      ]
     },
     "execution_count": 10,
     "metadata": {},
     "output_type": "execute_result"
    }
   ],
   "source": [
    "s[:-4]"
   ]
  },
  {
   "cell_type": "code",
   "execution_count": 12,
   "metadata": {
    "collapsed": false
   },
   "outputs": [
    {
     "data": {
      "text/plain": [
       "'n AB'"
      ]
     },
     "execution_count": 12,
     "metadata": {},
     "output_type": "execute_result"
    }
   ],
   "source": [
    "s[5:]"
   ]
  },
  {
   "cell_type": "markdown",
   "metadata": {},
   "source": [
    "## Spojování řetězců\n",
    "\n",
    "Spojování řetězců lze provádět pomocí operací `+` a `*`.\n",
    "\n"
   ]
  },
  {
   "cell_type": "code",
   "execution_count": null,
   "metadata": {
    "collapsed": true
   },
   "outputs": [],
   "source": [
    ">>> 'ahoj'+' nazdar '+'cau'\n",
    "'ahoj nazdar cau'\n",
    ">>> s = 'ahoj'\n",
    ">>> s = s + ' nazdar '\n",
    ">>> s += 'cau'\n",
    ">>> s\n",
    "'ahoj nazdar cau'\n",
    ">>> '@' * 20\n",
    "'@@@@@@@@@@@@@@@@@@@@'"
   ]
  },
  {
   "cell_type": "markdown",
   "metadata": {},
   "source": [
    "## Neměnitelnost řetězců\n",
    "\n",
    "Řetězce jsou **neměnitelné**. To znamená, že proměnou lze vytvořit, nebo přepsat,\n",
    "ale nejde změnit například jeden znak."
   ]
  },
  {
   "cell_type": "code",
   "execution_count": 1,
   "metadata": {
    "collapsed": false
   },
   "outputs": [
    {
     "ename": "TypeError",
     "evalue": "'str' object does not support item assignment",
     "output_type": "error",
     "traceback": [
      "\u001b[0;31m---------------------------------------------------------------------------\u001b[0m",
      "\u001b[0;31mTypeError\u001b[0m                                 Traceback (most recent call last)",
      "\u001b[0;32m<ipython-input-1-b5aacb8d345a>\u001b[0m in \u001b[0;36m<module>\u001b[0;34m()\u001b[0m\n\u001b[1;32m      1\u001b[0m \u001b[0ms\u001b[0m\u001b[0;34m=\u001b[0m\u001b[0;34m'ahoj Karle'\u001b[0m\u001b[0;34m\u001b[0m\u001b[0m\n\u001b[0;32m----> 2\u001b[0;31m \u001b[0ms\u001b[0m\u001b[0;34m[\u001b[0m\u001b[0;36m0\u001b[0m\u001b[0;34m]\u001b[0m\u001b[0;34m=\u001b[0m\u001b[0;34m'A'\u001b[0m\u001b[0;34m\u001b[0m\u001b[0m\n\u001b[0m",
      "\u001b[0;31mTypeError\u001b[0m: 'str' object does not support item assignment"
     ]
    }
   ],
   "source": [
    "s='ahoj Karle'\n",
    "s[0]='A'"
   ]
  },
  {
   "cell_type": "markdown",
   "metadata": {},
   "source": [
    "S řetězci lze pracovat pomocí metod datového typu `str`. **Všechny metody vždy\n",
    "vrací nový objekt a původní řetěze zůstává nezměněn**:\n",
    "\n",
    "[strmetody]: http://docs.python.org/3/library/stdtypes.html?highlight=str.replace#string-methods\n",
    "\n",
    "### Některé [zajímavé metody][strmetody]\n",
    "\n",
    " * `.lower()`\n",
    " * `.upper()`\n",
    " * `.swapcase`\n",
    " \n",
    "... převede všechna písmena na malá respektive velká respektive prohodí velké za malé."
   ]
  },
  {
   "cell_type": "code",
   "execution_count": null,
   "metadata": {
    "collapsed": true
   },
   "outputs": [],
   "source": [
    ">>> s='Toto je retezec'\n",
    ">>> s.lower()\n",
    "'toto je retezec'\n",
    ">>> s.upper()\n",
    "'TOTO JE RETEZEC'\n",
    ">>> abc=s.upper()\n",
    ">>> s\n",
    "'Toto je retezec'\n",
    ">>> abc\n",
    "'TOTO JE RETEZEC'"
   ]
  },
  {
   "cell_type": "markdown",
   "metadata": {},
   "source": [
    "* `.split(znak)`\n",
    ": **rozdělí**\n",
    "řetězec podle zadaného znaku; není-li znak zadán, rozdělí \n",
    "ho podle bílých znaků (mezera, tabulátor, nový řádek)"
   ]
  },
  {
   "cell_type": "code",
   "execution_count": null,
   "metadata": {
    "collapsed": true
   },
   "outputs": [],
   "source": [
    ">>> s='ahoj nazdar      cau'\n",
    ">>> s.split()\n",
    "['ahoj', 'nazdar', 'cau']\n",
    ">>> '1 2 8    12   94  16'.split()  \n",
    "['1', '2', '8', '12', '94', '16']\n",
    ">>> 'ahoj:nazdar   :    cau'.split(':') \n",
    "['ahoj', 'nazdar   ', '    cau']"
   ]
  },
  {
   "cell_type": "markdown",
   "metadata": {},
   "source": [
    "* `.join(seznam)`\n",
    ": **spojí** všechny položky seznamu pomocí původního řetězce\n"
   ]
  },
  {
   "cell_type": "code",
   "execution_count": null,
   "metadata": {
    "collapsed": true
   },
   "outputs": [],
   "source": [
    ">>> s='RETEZEC'\n",
    ">>> s.join(['ahoj','nazdar','cau'])\n",
    "'ahojRETEZECnazdarRETEZECcau'\n",
    ">>> s.join('abcd')\n",
    "'aRETEZECbRETEZECcRETEZECd'\n",
    ">>> ':'.join(['ahoj','nazdar','cau'])\n",
    "'ahoj:nazdar:cau'"
   ]
  },
  {
   "cell_type": "markdown",
   "metadata": {},
   "source": [
    "* `.strip([chars])`\n",
    ": **ořeže**  řetězec o bílé znaky na začátku a na konci; je-li zadán\n",
    "  dobrovolný parametr `chars` budou se odstraňovat právě tyto znaky"
   ]
  },
  {
   "cell_type": "code",
   "execution_count": null,
   "metadata": {
    "collapsed": false
   },
   "outputs": [],
   "source": [
    ">>> s='    ahoj Karle  '\n",
    ">>> s.strip()\n",
    "'ahoj Karle'\n",
    "\n",
    ">>> s='..:_.._...:ahoj Karle..:::.:__..:'\n",
    ">>> s.strip('.:_')\n",
    "'ahoj Karle'"
   ]
  },
  {
   "cell_type": "markdown",
   "metadata": {},
   "source": [
    "* `.find(sub,[ start, [ end ] ])`\n",
    ": **vrátí index** -- pozice podřetězce `sub` v řetězci; je možné \n",
    "  nepovinně zadat `start` a `end` jako pozice začátku a konce hledání\n"
   ]
  },
  {
   "cell_type": "code",
   "execution_count": 16,
   "metadata": {
    "collapsed": false
   },
   "outputs": [
    {
     "data": {
      "text/plain": [
       "5"
      ]
     },
     "execution_count": 16,
     "metadata": {},
     "output_type": "execute_result"
    }
   ],
   "source": [
    "s='ahoj nazdar      cau'\n",
    "s.find('na')"
   ]
  },
  {
   "cell_type": "code",
   "execution_count": 17,
   "metadata": {
    "collapsed": false
   },
   "outputs": [
    {
     "data": {
      "text/plain": [
       "'n'"
      ]
     },
     "execution_count": 17,
     "metadata": {},
     "output_type": "execute_result"
    }
   ],
   "source": [
    "s[5]"
   ]
  },
  {
   "cell_type": "markdown",
   "metadata": {},
   "source": [
    "* `.index(sub,[ start, [ end ] ])`\n",
    ": stejné jako `.find()`, ale při nepřítomnosti podřetězce \n",
    "  `sub` vyvolá běhovou chybu"
   ]
  },
  {
   "cell_type": "code",
   "execution_count": 18,
   "metadata": {
    "collapsed": false
   },
   "outputs": [
    {
     "data": {
      "text/plain": [
       "-1"
      ]
     },
     "execution_count": 18,
     "metadata": {},
     "output_type": "execute_result"
    }
   ],
   "source": [
    "s='ahoj nazdar      cau'\n",
    "s.find('Q')"
   ]
  },
  {
   "cell_type": "code",
   "execution_count": 19,
   "metadata": {
    "collapsed": false
   },
   "outputs": [
    {
     "ename": "ValueError",
     "evalue": "substring not found",
     "output_type": "error",
     "traceback": [
      "\u001b[0;31m---------------------------------------------------------------------------\u001b[0m",
      "\u001b[0;31mValueError\u001b[0m                                Traceback (most recent call last)",
      "\u001b[0;32m<ipython-input-19-2fa835f808f1>\u001b[0m in \u001b[0;36m<module>\u001b[0;34m()\u001b[0m\n\u001b[0;32m----> 1\u001b[0;31m \u001b[0ms\u001b[0m\u001b[0;34m.\u001b[0m\u001b[0mindex\u001b[0m\u001b[0;34m(\u001b[0m\u001b[0;34m'Q'\u001b[0m\u001b[0;34m)\u001b[0m\u001b[0;34m\u001b[0m\u001b[0m\n\u001b[0m",
      "\u001b[0;31mValueError\u001b[0m: substring not found"
     ]
    }
   ],
   "source": [
    "s.index('Q')"
   ]
  },
  {
   "cell_type": "markdown",
   "metadata": {},
   "source": [
    "* `.count(sub,[ start, [ end ] ])`\n",
    ": **spočítá** ` kolikrát se v řetězci nachází podřetězec `sub`; je možné \n",
    "  nepovinně zadat `start` a `end` jako pozice začátku a konce hledání\n"
   ]
  },
  {
   "cell_type": "code",
   "execution_count": 20,
   "metadata": {
    "collapsed": false
   },
   "outputs": [
    {
     "data": {
      "text/plain": [
       "7"
      ]
     },
     "execution_count": 20,
     "metadata": {},
     "output_type": "execute_result"
    }
   ],
   "source": [
    "s='ahoj nazdar'\n",
    "s.index('z')"
   ]
  },
  {
   "cell_type": "code",
   "execution_count": 21,
   "metadata": {
    "collapsed": false
   },
   "outputs": [
    {
     "data": {
      "text/plain": [
       "8"
      ]
     },
     "execution_count": 21,
     "metadata": {},
     "output_type": "execute_result"
    }
   ],
   "source": [
    "s.index('d')"
   ]
  },
  {
   "cell_type": "code",
   "execution_count": 22,
   "metadata": {
    "collapsed": false
   },
   "outputs": [
    {
     "ename": "ValueError",
     "evalue": "substring not found",
     "output_type": "error",
     "traceback": [
      "\u001b[0;31m---------------------------------------------------------------------------\u001b[0m",
      "\u001b[0;31mValueError\u001b[0m                                Traceback (most recent call last)",
      "\u001b[0;32m<ipython-input-22-a7ff75aee7be>\u001b[0m in \u001b[0;36m<module>\u001b[0;34m()\u001b[0m\n\u001b[0;32m----> 1\u001b[0;31m \u001b[0ms\u001b[0m\u001b[0;34m.\u001b[0m\u001b[0mindex\u001b[0m\u001b[0;34m(\u001b[0m\u001b[0;34m'blbost'\u001b[0m\u001b[0;34m)\u001b[0m\u001b[0;34m\u001b[0m\u001b[0m\n\u001b[0m",
      "\u001b[0;31mValueError\u001b[0m: substring not found"
     ]
    }
   ],
   "source": [
    "s.index('blbost')"
   ]
  },
  {
   "cell_type": "markdown",
   "metadata": {},
   "source": [
    "* `.replace(old,new)`\n",
    ": **nahradí** řetězec `old` řetězcem `new`"
   ]
  },
  {
   "cell_type": "code",
   "execution_count": 23,
   "metadata": {
    "collapsed": false
   },
   "outputs": [
    {
     "data": {
      "text/plain": [
       "'ahoj NEdar      cau'"
      ]
     },
     "execution_count": 23,
     "metadata": {},
     "output_type": "execute_result"
    }
   ],
   "source": [
    "s='ahoj nazdar      cau'\n",
    "s.replace('naz','NE')"
   ]
  },
  {
   "cell_type": "markdown",
   "metadata": {},
   "source": [
    "## Formátování\n",
    "\n",
    "* `.format(seznam)` \n",
    ": vrátí řetězec v němž jsou speciální konstrukce ve složených\n",
    "  závorkách `{...}` nahrazeny hodnotami se seznamu\n",
    "\n",
    "Jedná se vlastně o formátovací mikrojazyk. Jeho plný popis najdete \n",
    "v [dokumentaci](http://docs.python.org/3/)\n",
    "jako [Format String Syntax](https://docs.python.org/3/library/string.html#formatstrings). \n",
    "Zde uvádím jen to nejdůležitější:\n",
    "\n",
    "Do složených závorek lze zapsat volitelně pořadí hodnoty v seznamu. Pro \n",
    "vložení znaku `{` nebo `}` je třeba jej zdvojit.\n"
   ]
  },
  {
   "cell_type": "code",
   "execution_count": 24,
   "metadata": {
    "collapsed": false
   },
   "outputs": [
    {
     "data": {
      "text/plain": [
       "'jedna: ahoj, dva: 77, tri: 3.1415'"
      ]
     },
     "execution_count": 24,
     "metadata": {},
     "output_type": "execute_result"
    }
   ],
   "source": [
    "'jedna: {}, dva: {}, tri: {}'.format('ahoj',77, 3.1415)"
   ]
  },
  {
   "cell_type": "code",
   "execution_count": 25,
   "metadata": {
    "collapsed": false
   },
   "outputs": [
    {
     "data": {
      "text/plain": [
       "'jedna: 3.1415, dva: ahoj, tri: 77'"
      ]
     },
     "execution_count": 25,
     "metadata": {},
     "output_type": "execute_result"
    }
   ],
   "source": [
    "'jedna: {2}, dva: {0}, tri: {1}'.format('ahoj',77, 3.1415)"
   ]
  },
  {
   "cell_type": "code",
   "execution_count": 26,
   "metadata": {
    "collapsed": false
   },
   "outputs": [
    {
     "data": {
      "text/plain": [
       "'jedna: 3.1415, dva: ahoj, tri: 77; znak {'"
      ]
     },
     "execution_count": 26,
     "metadata": {},
     "output_type": "execute_result"
    }
   ],
   "source": [
    "'jedna: {2}, dva: {0}, tri: {1}; znak {{'.format('ahoj',77, 3.1415)"
   ]
  },
  {
   "cell_type": "markdown",
   "metadata": {},
   "source": [
    "* Dále lze přidat formátovací řetězec ve tvaru `<šířka><,>.<přesnost><typ>`\n",
    "`<šířka>` a `<přesnost.` jsou celá čísla.\n",
    "\n",
    "* `<,>` říká že se má čárka jako \n",
    "oddělovač řádů.\n",
    "\n",
    "\n",
    "**`<typ>`**| význam\n",
    ":----------|:-------\n",
    "`s` | řetězec\n",
    "`d` | číslo v desítkové soustavě\n",
    "`b` | číslo ve dvojkové soustavě\n",
    "`o` | číslo v osmičkové soustavě\n",
    "`x`, `X` | číslo v šestnáctkové soustavě\n",
    "`e`, `E` | reálné číslo v pevné řádové čárce\n",
    "`f`, `F` | reálné číslo v plovoucí řádové čárce\n",
    "`g`, `G` | zvolí `e` nebo `f` tak, aby se to dobře četlo\n",
    "`n` | jako `g`, ale podle [locale](https://cs.wikipedia.org/wiki/locale) rozhodne zda bude použita desetinná tečka nebo čárka\n",
    "`c` | znak -- převede celé číslo na znak \n",
    "`NIC` (`<typ> není zadán`)&nbsp;&nbsp;&nbsp;| stejné jako `s` nebo `d` nebo `g`"
   ]
  },
  {
   "cell_type": "code",
   "execution_count": 27,
   "metadata": {
    "collapsed": false
   },
   "outputs": [
    {
     "data": {
      "text/plain": [
       "'cele cislo 25'"
      ]
     },
     "execution_count": 27,
     "metadata": {},
     "output_type": "execute_result"
    }
   ],
   "source": [
    "'cele cislo {0:d}'.format(25)"
   ]
  },
  {
   "cell_type": "code",
   "execution_count": 30,
   "metadata": {
    "collapsed": false
   },
   "outputs": [
    {
     "data": {
      "text/plain": [
       "'cele cislo                   25'"
      ]
     },
     "execution_count": 30,
     "metadata": {},
     "output_type": "execute_result"
    }
   ],
   "source": [
    "'cele cislo {0:20d}'.format(25)"
   ]
  },
  {
   "cell_type": "code",
   "execution_count": 31,
   "metadata": {
    "collapsed": false
   },
   "outputs": [
    {
     "data": {
      "text/plain": [
       "'cele cislo         25'"
      ]
     },
     "execution_count": 31,
     "metadata": {},
     "output_type": "execute_result"
    }
   ],
   "source": [
    "'cele cislo {0:10d}'.format(25)"
   ]
  },
  {
   "cell_type": "code",
   "execution_count": 32,
   "metadata": {
    "collapsed": false
   },
   "outputs": [
    {
     "data": {
      "text/plain": [
       "'realne cislo 31415926.535897'"
      ]
     },
     "execution_count": 32,
     "metadata": {},
     "output_type": "execute_result"
    }
   ],
   "source": [
    "'realne cislo {0:f}'.format(31415926.535897)"
   ]
  },
  {
   "cell_type": "code",
   "execution_count": 33,
   "metadata": {
    "collapsed": false
   },
   "outputs": [
    {
     "data": {
      "text/plain": [
       "'realne cislo 3.141593e+07'"
      ]
     },
     "execution_count": 33,
     "metadata": {},
     "output_type": "execute_result"
    }
   ],
   "source": [
    "'realne cislo {0:e}'.format(31415926.535897)"
   ]
  },
  {
   "cell_type": "code",
   "execution_count": 34,
   "metadata": {
    "collapsed": false
   },
   "outputs": [
    {
     "data": {
      "text/plain": [
       "'realne cislo 31415926.535897'"
      ]
     },
     "execution_count": 34,
     "metadata": {},
     "output_type": "execute_result"
    }
   ],
   "source": [
    "'realne cislo {0:5}'.format(31415926.535897)"
   ]
  },
  {
   "cell_type": "code",
   "execution_count": 35,
   "metadata": {
    "collapsed": false
   },
   "outputs": [
    {
     "data": {
      "text/plain": [
       "'realne cislo          3.14159e+07'"
      ]
     },
     "execution_count": 35,
     "metadata": {},
     "output_type": "execute_result"
    }
   ],
   "source": [
    "'realne cislo {0:20g}'.format(31415926.535897)"
   ]
  },
  {
   "cell_type": "code",
   "execution_count": 36,
   "metadata": {
    "collapsed": false
   },
   "outputs": [
    {
     "data": {
      "text/plain": [
       "'realne cislo   3.14e+07'"
      ]
     },
     "execution_count": 36,
     "metadata": {},
     "output_type": "execute_result"
    }
   ],
   "source": [
    "'realne cislo {0:10.3g}'.format(31415926.535897)"
   ]
  },
  {
   "cell_type": "code",
   "execution_count": 37,
   "metadata": {
    "collapsed": false
   },
   "outputs": [
    {
     "data": {
      "text/plain": [
       "'realne cislo 31415926.536'"
      ]
     },
     "execution_count": 37,
     "metadata": {},
     "output_type": "execute_result"
    }
   ],
   "source": [
    "'realne cislo {0:10.3f}'.format(31415926.535897) "
   ]
  },
  {
   "cell_type": "code",
   "execution_count": 38,
   "metadata": {
    "collapsed": false
   },
   "outputs": [
    {
     "data": {
      "text/plain": [
       "'realne cislo         31415926.536'"
      ]
     },
     "execution_count": 38,
     "metadata": {},
     "output_type": "execute_result"
    }
   ],
   "source": [
    "'realne cislo {0:20.3f}'.format(31415926.535897)"
   ]
  },
  {
   "cell_type": "code",
   "execution_count": 39,
   "metadata": {
    "collapsed": false
   },
   "outputs": [
    {
     "data": {
      "text/plain": [
       "'realne cislo       31,415,926.536'"
      ]
     },
     "execution_count": 39,
     "metadata": {},
     "output_type": "execute_result"
    }
   ],
   "source": [
    "'realne cislo {0:20,.3f}'.format(31415926.535897)"
   ]
  },
  {
   "cell_type": "code",
   "execution_count": 40,
   "metadata": {
    "collapsed": false
   },
   "outputs": [
    {
     "data": {
      "text/plain": [
       "'retezec Je tu hola veta. KONEC'"
      ]
     },
     "execution_count": 40,
     "metadata": {},
     "output_type": "execute_result"
    }
   ],
   "source": [
    "'retezec {0:s} KONEC'.format('Je tu hola veta.')"
   ]
  },
  {
   "cell_type": "code",
   "execution_count": 41,
   "metadata": {
    "collapsed": false
   },
   "outputs": [
    {
     "data": {
      "text/plain": [
       "'retezec Je tu hola veta.               KONEC'"
      ]
     },
     "execution_count": 41,
     "metadata": {},
     "output_type": "execute_result"
    }
   ],
   "source": [
    "'retezec {0:30s} KONEC'.format('Je tu hola veta.')"
   ]
  },
  {
   "cell_type": "markdown",
   "metadata": {},
   "source": [
    "* Nula před `<šířka>` indikuje, že prázdná místa se mají **vyplnit nulami.**"
   ]
  },
  {
   "cell_type": "code",
   "execution_count": 43,
   "metadata": {
    "collapsed": false
   },
   "outputs": [
    {
     "data": {
      "text/plain": [
       "'realne cislo 0000000031415926.536'"
      ]
     },
     "execution_count": 43,
     "metadata": {},
     "output_type": "execute_result"
    }
   ],
   "source": [
    "'realne cislo {0:020.3f}'.format(31415926.535897)"
   ]
  },
  {
   "cell_type": "code",
   "execution_count": 44,
   "metadata": {
    "collapsed": false
   },
   "outputs": [
    {
     "data": {
      "text/plain": [
       "'cele cislo 00000000000010100101'"
      ]
     },
     "execution_count": 44,
     "metadata": {},
     "output_type": "execute_result"
    }
   ],
   "source": [
    "'cele cislo {0:020b}'.format(165)"
   ]
  },
  {
   "cell_type": "code",
   "execution_count": 45,
   "metadata": {
    "collapsed": false
   },
   "outputs": [
    {
     "data": {
      "text/plain": [
       "'cele cislo             10100101'"
      ]
     },
     "execution_count": 45,
     "metadata": {},
     "output_type": "execute_result"
    }
   ],
   "source": [
    "'cele cislo {0:20b}'.format(165)"
   ]
  },
  {
   "cell_type": "markdown",
   "metadata": {},
   "source": [
    "* `#` tiskne s prefixem indikujícím **číselnou soustavu**"
   ]
  },
  {
   "cell_type": "code",
   "execution_count": 46,
   "metadata": {
    "collapsed": false
   },
   "outputs": [
    {
     "data": {
      "text/plain": [
       "'cele cislo 0b1011100'"
      ]
     },
     "execution_count": 46,
     "metadata": {},
     "output_type": "execute_result"
    }
   ],
   "source": [
    "'cele cislo {0:#8b}'.format(92)"
   ]
  },
  {
   "cell_type": "code",
   "execution_count": 47,
   "metadata": {
    "collapsed": false
   },
   "outputs": [
    {
     "data": {
      "text/plain": [
       "'cele cislo     0x5c'"
      ]
     },
     "execution_count": 47,
     "metadata": {},
     "output_type": "execute_result"
    }
   ],
   "source": [
    "'cele cislo {0:#8x}'.format(92)"
   ]
  },
  {
   "cell_type": "markdown",
   "metadata": {},
   "source": [
    "* Výpis znaménka lze vynutit pomocí znaku `+`. \n",
    "* Znak `-` nastaví výpis znaménka jen u záporných čísel a \n",
    "* mezera ` ` vypisuje místo plus mezeru."
   ]
  },
  {
   "cell_type": "code",
   "execution_count": 55,
   "metadata": {
    "collapsed": false
   },
   "outputs": [
    {
     "data": {
      "text/plain": [
       "'cislo 3.141593'"
      ]
     },
     "execution_count": 55,
     "metadata": {},
     "output_type": "execute_result"
    }
   ],
   "source": [
    "from math import pi\n",
    "'cislo {0:f}'.format(pi)"
   ]
  },
  {
   "cell_type": "code",
   "execution_count": 56,
   "metadata": {
    "collapsed": false
   },
   "outputs": [
    {
     "data": {
      "text/plain": [
       "'cislo +3.141593'"
      ]
     },
     "execution_count": 56,
     "metadata": {},
     "output_type": "execute_result"
    }
   ],
   "source": [
    "'cislo {0:+f}'.format(pi)"
   ]
  },
  {
   "cell_type": "code",
   "execution_count": 57,
   "metadata": {
    "collapsed": false
   },
   "outputs": [
    {
     "data": {
      "text/plain": [
       "'cislo -3.141593'"
      ]
     },
     "execution_count": 57,
     "metadata": {},
     "output_type": "execute_result"
    }
   ],
   "source": [
    "'cislo {0:+f}'.format(-pi)"
   ]
  },
  {
   "cell_type": "code",
   "execution_count": 58,
   "metadata": {
    "collapsed": false
   },
   "outputs": [
    {
     "data": {
      "text/plain": [
       "'cislo -3.141593'"
      ]
     },
     "execution_count": 58,
     "metadata": {},
     "output_type": "execute_result"
    }
   ],
   "source": [
    "'cislo {0: f}'.format(-pi)"
   ]
  },
  {
   "cell_type": "code",
   "execution_count": 59,
   "metadata": {
    "collapsed": false
   },
   "outputs": [
    {
     "data": {
      "text/plain": [
       "'cislo  3.141593'"
      ]
     },
     "execution_count": 59,
     "metadata": {},
     "output_type": "execute_result"
    }
   ],
   "source": [
    "'cislo {0: f}'.format(pi)"
   ]
  },
  {
   "cell_type": "markdown",
   "metadata": {},
   "source": [
    "* Zarovnání se děje pomocí znaků `>`, `<` , `^` a `=`, který slouží\n",
    "pro zarovnávání čísel."
   ]
  },
  {
   "cell_type": "code",
   "execution_count": 60,
   "metadata": {
    "collapsed": false
   },
   "outputs": [
    {
     "data": {
      "text/plain": [
       "'cislo                3.142'"
      ]
     },
     "execution_count": 60,
     "metadata": {},
     "output_type": "execute_result"
    }
   ],
   "source": [
    "'cislo {0:20.3f}'.format(pi)"
   ]
  },
  {
   "cell_type": "code",
   "execution_count": 61,
   "metadata": {
    "collapsed": false
   },
   "outputs": [
    {
     "data": {
      "text/plain": [
       "'cislo                3.142'"
      ]
     },
     "execution_count": 61,
     "metadata": {},
     "output_type": "execute_result"
    }
   ],
   "source": [
    "'cislo {0:>20.3f}'.format(pi)"
   ]
  },
  {
   "cell_type": "code",
   "execution_count": 62,
   "metadata": {
    "collapsed": false
   },
   "outputs": [
    {
     "data": {
      "text/plain": [
       "'cislo 3.142               '"
      ]
     },
     "execution_count": 62,
     "metadata": {},
     "output_type": "execute_result"
    }
   ],
   "source": [
    "'cislo {0:<20.3f}'.format(pi)"
   ]
  },
  {
   "cell_type": "code",
   "execution_count": 63,
   "metadata": {
    "collapsed": false
   },
   "outputs": [
    {
     "data": {
      "text/plain": [
       "'cislo        3.142        '"
      ]
     },
     "execution_count": 63,
     "metadata": {},
     "output_type": "execute_result"
    }
   ],
   "source": [
    "'cislo {0:^20.3f}'.format(pi)"
   ]
  },
  {
   "cell_type": "code",
   "execution_count": 66,
   "metadata": {
    "collapsed": false
   },
   "outputs": [
    {
     "name": "stdout",
     "output_type": "stream",
     "text": [
      "            3.141500\n",
      "            1.500000\n",
      "          125.800000\n"
     ]
    }
   ],
   "source": [
    "print('{:=20f}\\n{:=20f}\\n{:=20f}'.format(3.1415, 1.5, 125.8))"
   ]
  },
  {
   "cell_type": "markdown",
   "metadata": {},
   "source": [
    "* Zarovnáme na střed 15 znaků 4 desetinná místa i se znaménkem"
   ]
  },
  {
   "cell_type": "code",
   "execution_count": 67,
   "metadata": {
    "collapsed": false
   },
   "outputs": [
    {
     "name": "stdout",
     "output_type": "stream",
     "text": [
      ":000000+3.14160000000:\n",
      ":      +3.1416       :\n"
     ]
    }
   ],
   "source": [
    "print(':{0:^+020.4f}:'.format(pi))\n",
    "print(':{0:^+20.4f}:'.format(pi))"
   ]
  },
  {
   "cell_type": "markdown",
   "metadata": {},
   "source": [
    "## Kódování znaků\n",
    "\n",
    "* V Pythonu jsou řetězce kódovány v [Unicode](https://cs.wikipedia.org/wiki/Unicode).\n",
    "* Řetězec lze převést do konkrétní znakové sady pomocí metody `.encode()`."
   ]
  },
  {
   "cell_type": "code",
   "execution_count": 68,
   "metadata": {
    "collapsed": false
   },
   "outputs": [
    {
     "data": {
      "text/plain": [
       "b'Lo\\xc4\\x8f v \\xc3\\xba\\xc5\\xbein\\xc4\\x9b'"
      ]
     },
     "execution_count": 68,
     "metadata": {},
     "output_type": "execute_result"
    }
   ],
   "source": [
    "s = 'Loď v úžině'\n",
    "s.encode('UTF8')"
   ]
  },
  {
   "cell_type": "code",
   "execution_count": 69,
   "metadata": {
    "collapsed": false
   },
   "outputs": [
    {
     "data": {
      "text/plain": [
       "b'Lo\\xef v \\xfa\\x9ein\\xec'"
      ]
     },
     "execution_count": 69,
     "metadata": {},
     "output_type": "execute_result"
    }
   ],
   "source": [
    "s.encode('cp1250')"
   ]
  },
  {
   "cell_type": "markdown",
   "metadata": {},
   "source": [
    "Zároveň je ale třeba říct, že takto převedený řetězec už vlasně není řetězec `str()` ale **binární řetězec** `bites()`. Ten lze vytvořit zapsáním předpony `b`. Můřete si zároň všimnou že o jednu \"buňku\" výše tuto předponu `b` také najdete."
   ]
  },
  {
   "cell_type": "code",
   "execution_count": 71,
   "metadata": {
    "collapsed": false
   },
   "outputs": [
    {
     "data": {
      "text/plain": [
       "bytes"
      ]
     },
     "execution_count": 71,
     "metadata": {},
     "output_type": "execute_result"
    }
   ],
   "source": [
    "b = s.encode('UTF8')\n",
    "type(b)"
   ]
  },
  {
   "cell_type": "code",
   "execution_count": 73,
   "metadata": {
    "collapsed": false
   },
   "outputs": [
    {
     "data": {
      "text/plain": [
       "bytes"
      ]
     },
     "execution_count": 73,
     "metadata": {},
     "output_type": "execute_result"
    }
   ],
   "source": [
    "binarni = b'kockodan'\n",
    "type(binarni)"
   ]
  },
  {
   "cell_type": "markdown",
   "metadata": {},
   "source": [
    "* Opačný proces, tedy převod `bites()` na `str()` zajistí metoda `.decode()`."
   ]
  },
  {
   "cell_type": "code",
   "execution_count": 83,
   "metadata": {
    "collapsed": false
   },
   "outputs": [
    {
     "name": "stdout",
     "output_type": "stream",
     "text": [
      "b'Lo\\xef v \\xfa\\x9ein\\xec'\n",
      "Loп v ъћinм\n",
      "Loï v úžinì\n",
      "Loď v úžině\n"
     ]
    }
   ],
   "source": [
    "print(b'Lo\\xef v \\xfa\\x9ein\\xec')\n",
    "print(b'Lo\\xef v \\xfa\\x9ein\\xec'.decode('cp1251'))\n",
    "print(b'Lo\\xef v \\xfa\\x9ein\\xec'.decode('cp1252'))\n",
    "print(b'Lo\\xef v \\xfa\\x9ein\\xec'.decode('cp1250'))"
   ]
  }
 ],
 "metadata": {
  "kernelspec": {
   "display_name": "Python 3",
   "language": "python",
   "name": "python3"
  },
  "language_info": {
   "codemirror_mode": {
    "name": "ipython",
    "version": 3
   },
   "file_extension": ".py",
   "mimetype": "text/x-python",
   "name": "python",
   "nbconvert_exporter": "python",
   "pygments_lexer": "ipython3",
   "version": "3.5.3"
  }
 },
 "nbformat": 4,
 "nbformat_minor": 2
}
