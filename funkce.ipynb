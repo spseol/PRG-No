{
 "cells": [
  {
   "cell_type": "markdown",
   "id": "liberal-scheduling",
   "metadata": {},
   "source": [
    "Funkce\n",
    "===================\n",
    "\n",
    "Funkce jsou prostředky, díky kterým můžeme určitou funkčnost zabalit, opakovan\n",
    "používat a parametrizovat. Funkci vždy předáváme jeden nebo více parametr\n",
    "(nebo žádný). Funkce nám obvykle vrátí nějaký výsledek."
   ]
  },
  {
   "cell_type": "code",
   "execution_count": 88,
   "id": "eleven-dining",
   "metadata": {},
   "outputs": [],
   "source": [
    "def cislo(a,b,c):\n",
    "    a = 100*a\n",
    "    b *= 10\n",
    "    return a+b+c"
   ]
  },
  {
   "cell_type": "code",
   "execution_count": 89,
   "id": "front-logan",
   "metadata": {},
   "outputs": [
    {
     "data": {
      "text/plain": [
       "354"
      ]
     },
     "execution_count": 89,
     "metadata": {},
     "output_type": "execute_result"
    }
   ],
   "source": [
    "cislo(3,5,4)"
   ]
  },
  {
   "cell_type": "code",
   "execution_count": 90,
   "id": "understanding-passing",
   "metadata": {},
   "outputs": [
    {
     "data": {
      "text/plain": [
       "814"
      ]
     },
     "execution_count": 90,
     "metadata": {},
     "output_type": "execute_result"
    }
   ],
   "source": [
    "cislo(8,1,4)"
   ]
  },
  {
   "cell_type": "code",
   "execution_count": 91,
   "id": "intensive-juvenile",
   "metadata": {},
   "outputs": [
    {
     "data": {
      "text/plain": [
       "814"
      ]
     },
     "execution_count": 91,
     "metadata": {},
     "output_type": "execute_result"
    }
   ],
   "source": [
    "x, y = 8,4\n",
    "cislo(x,1,y)"
   ]
  },
  {
   "cell_type": "code",
   "execution_count": 92,
   "id": "cosmetic-commerce",
   "metadata": {},
   "outputs": [
    {
     "data": {
      "text/plain": [
       "418"
      ]
     },
     "execution_count": 92,
     "metadata": {},
     "output_type": "execute_result"
    }
   ],
   "source": [
    "cislo(y,1,x)"
   ]
  },
  {
   "cell_type": "markdown",
   "id": "infrared-score",
   "metadata": {},
   "source": [
    "Proměnné `a`,`b` a `c` jsou *lokální* a jsou **přístupné jen uvnitř funkce**.\n",
    "Proměnná uvnitř funkce nemají nic společného s proměnnými vně."
   ]
  },
  {
   "cell_type": "code",
   "execution_count": 93,
   "id": "secret-virus",
   "metadata": {},
   "outputs": [
    {
     "data": {
      "text/plain": [
       "912"
      ]
     },
     "execution_count": 93,
     "metadata": {},
     "output_type": "execute_result"
    }
   ],
   "source": [
    "a,b = 1,2\n",
    "cislo(9,a,b)"
   ]
  },
  {
   "cell_type": "code",
   "execution_count": 94,
   "id": "violent-conjunction",
   "metadata": {},
   "outputs": [
    {
     "data": {
      "text/plain": [
       "(1, 2)"
      ]
     },
     "execution_count": 94,
     "metadata": {},
     "output_type": "execute_result"
    }
   ],
   "source": [
    "a,b"
   ]
  },
  {
   "cell_type": "markdown",
   "id": "considerable-cylinder",
   "metadata": {},
   "source": [
    "## Výchozí hodnoty parametrů\n",
    "\n",
    "Python umožňuje definovat u každého parametru výchozí hodnotu:"
   ]
  },
  {
   "cell_type": "code",
   "execution_count": 95,
   "id": "fancy-balloon",
   "metadata": {},
   "outputs": [],
   "source": [
    "def cislo(a,b=8,c=9):\n",
    "    a = 100*a\n",
    "    b *= 10\n",
    "    return a+b+c"
   ]
  },
  {
   "cell_type": "markdown",
   "id": "integral-standard",
   "metadata": {},
   "source": [
    "Při volání je potom možné parametry z výchozí hodnotou vynechat nebo je\n",
    "pojmenovat a vyměnit jejich pořadí."
   ]
  },
  {
   "cell_type": "code",
   "execution_count": 96,
   "id": "tribal-executive",
   "metadata": {},
   "outputs": [
    {
     "data": {
      "text/plain": [
       "189"
      ]
     },
     "execution_count": 96,
     "metadata": {},
     "output_type": "execute_result"
    }
   ],
   "source": [
    "cislo(1)"
   ]
  },
  {
   "cell_type": "code",
   "execution_count": 97,
   "id": "annoying-personal",
   "metadata": {},
   "outputs": [
    {
     "data": {
      "text/plain": [
       "129"
      ]
     },
     "execution_count": 97,
     "metadata": {},
     "output_type": "execute_result"
    }
   ],
   "source": [
    "cislo(1,2)"
   ]
  },
  {
   "cell_type": "code",
   "execution_count": 98,
   "id": "double-greensboro",
   "metadata": {},
   "outputs": [
    {
     "data": {
      "text/plain": [
       "185"
      ]
     },
     "execution_count": 98,
     "metadata": {},
     "output_type": "execute_result"
    }
   ],
   "source": [
    "cislo(1,c=5)"
   ]
  },
  {
   "cell_type": "code",
   "execution_count": 99,
   "id": "handled-street",
   "metadata": {},
   "outputs": [
    {
     "data": {
      "text/plain": [
       "185"
      ]
     },
     "execution_count": 99,
     "metadata": {},
     "output_type": "execute_result"
    }
   ],
   "source": [
    "cislo(a=1,c=5)"
   ]
  },
  {
   "cell_type": "code",
   "execution_count": 100,
   "id": "expanded-poison",
   "metadata": {},
   "outputs": [
    {
     "data": {
      "text/plain": [
       "145"
      ]
     },
     "execution_count": 100,
     "metadata": {},
     "output_type": "execute_result"
    }
   ],
   "source": [
    "cislo(a=1, c=5, b=4)"
   ]
  },
  {
   "cell_type": "markdown",
   "id": "casual-syndrome",
   "metadata": {},
   "source": [
    "## Volitelné parametry\n",
    "\n",
    "Dalším fíglem, který python umožňuje jsou volitelné parametry. Ty je možn\n",
    "kombinovat s klasickými (pozičními) parametry nebo je použít samostatně. \n",
    "\n",
    "### Volitelné poziční parametry\n",
    "\n",
    "Volitelné parametry se deklarují pomocí operátoru `*` před názvem proměnné. \n",
    "Taková proměnná potom bude do funkce předána jako `tuple`."
   ]
  },
  {
   "cell_type": "code",
   "execution_count": 101,
   "id": "christian-prospect",
   "metadata": {},
   "outputs": [],
   "source": [
    "def prumer(*args):\n",
    "    soucet=0.0\n",
    "    for i in args:\n",
    "        soucet+=i\n",
    "    return soucet/len(args)"
   ]
  },
  {
   "cell_type": "code",
   "execution_count": 102,
   "id": "helpful-joshua",
   "metadata": {},
   "outputs": [
    {
     "data": {
      "text/plain": [
       "2.5"
      ]
     },
     "execution_count": 102,
     "metadata": {},
     "output_type": "execute_result"
    }
   ],
   "source": [
    "prumer(1,2,3,4)"
   ]
  },
  {
   "cell_type": "code",
   "execution_count": 103,
   "id": "armed-jordan",
   "metadata": {},
   "outputs": [
    {
     "data": {
      "text/plain": [
       "4.428571428571429"
      ]
     },
     "execution_count": 103,
     "metadata": {},
     "output_type": "execute_result"
    }
   ],
   "source": [
    "prumer(1,2,3,4,8,12,1)"
   ]
  },
  {
   "cell_type": "code",
   "execution_count": 104,
   "id": "prompt-feature",
   "metadata": {},
   "outputs": [
    {
     "data": {
      "text/plain": [
       "1.5"
      ]
     },
     "execution_count": 104,
     "metadata": {},
     "output_type": "execute_result"
    }
   ],
   "source": [
    "prumer(1,2)"
   ]
  },
  {
   "cell_type": "markdown",
   "id": "deadly-equivalent",
   "metadata": {},
   "source": [
    "Chování je poměrně logické, ale na druhou stranu nemůžeme po Pythonu chtít, aby\n",
    "si domyslel to, co domyslet nelze."
   ]
  },
  {
   "cell_type": "code",
   "execution_count": 105,
   "id": "sized-label",
   "metadata": {},
   "outputs": [],
   "source": [
    "def funkce(a,b=5,*args):\n",
    "    print('a:',a)\n",
    "    print('b:',b)\n",
    "    print(args)"
   ]
  },
  {
   "cell_type": "code",
   "execution_count": 106,
   "id": "color-graphics",
   "metadata": {},
   "outputs": [
    {
     "name": "stdout",
     "output_type": "stream",
     "text": [
      "a: 8\n",
      "b: 5\n",
      "()\n"
     ]
    }
   ],
   "source": [
    "funkce(8)"
   ]
  },
  {
   "cell_type": "code",
   "execution_count": 107,
   "id": "reduced-facility",
   "metadata": {},
   "outputs": [
    {
     "name": "stdout",
     "output_type": "stream",
     "text": [
      "a: 8\n",
      "b: 555\n",
      "()\n"
     ]
    }
   ],
   "source": [
    "funkce(8,555)"
   ]
  },
  {
   "cell_type": "code",
   "execution_count": 108,
   "id": "vanilla-catholic",
   "metadata": {},
   "outputs": [
    {
     "name": "stdout",
     "output_type": "stream",
     "text": [
      "a: 888\n",
      "b: 555\n",
      "(1, 2, 3)\n"
     ]
    }
   ],
   "source": [
    "funkce(888,555,1,2,3)"
   ]
  },
  {
   "cell_type": "code",
   "execution_count": 109,
   "id": "suffering-israel",
   "metadata": {},
   "outputs": [
    {
     "ename": "SyntaxError",
     "evalue": "positional argument follows keyword argument (<ipython-input-109-fa219084256b>, line 1)",
     "output_type": "error",
     "traceback": [
      "\u001b[0;36m  File \u001b[0;32m\"<ipython-input-109-fa219084256b>\"\u001b[0;36m, line \u001b[0;32m1\u001b[0m\n\u001b[0;31m    funkce(888,b=555,1,2,3)\u001b[0m\n\u001b[0m                          ^\u001b[0m\n\u001b[0;31mSyntaxError\u001b[0m\u001b[0;31m:\u001b[0m positional argument follows keyword argument\n"
     ]
    }
   ],
   "source": [
    "funkce(888,b=555,1,2,3)"
   ]
  },
  {
   "cell_type": "markdown",
   "id": "broadband-settle",
   "metadata": {},
   "source": [
    "### Volitelné pojmenované parametry\n",
    "\n",
    "Volitelné pojmenované parametry se deklarují pomocí operátoru `**` před názvem\n",
    "proměnné. Taková proměnná potom bude do funkce předána jako `dict`."
   ]
  },
  {
   "cell_type": "code",
   "execution_count": null,
   "id": "distant-teacher",
   "metadata": {},
   "outputs": [],
   "source": [
    "def funkce(*args,**kwargs):\n",
    "    print(args)\n",
    "    print(kwargs)"
   ]
  },
  {
   "cell_type": "code",
   "execution_count": null,
   "id": "underlying-distribution",
   "metadata": {},
   "outputs": [],
   "source": [
    "funkce(1,2,3)"
   ]
  },
  {
   "cell_type": "code",
   "execution_count": null,
   "id": "norman-increase",
   "metadata": {},
   "outputs": [],
   "source": [
    "funkce(1,2,3,jmeno='Karel', znamka=1)"
   ]
  },
  {
   "cell_type": "code",
   "execution_count": null,
   "id": "weird-allergy",
   "metadata": {},
   "outputs": [],
   "source": [
    "funkce(jmeno='Karel', znamka=1, cislo=89)"
   ]
  },
  {
   "cell_type": "code",
   "execution_count": null,
   "id": "grand-designer",
   "metadata": {},
   "outputs": [],
   "source": [
    "funkce(1,2,3,jmeno='Karel', znamka=1,8)"
   ]
  },
  {
   "cell_type": "markdown",
   "id": "geological-magazine",
   "metadata": {},
   "source": [
    "## Rozbaleníseznamu a slovníku\n",
    "\n",
    "Seznam lze rozbalit pomocí prefixu `*`. Lze to použít například při volání funkce."
   ]
  },
  {
   "cell_type": "code",
   "execution_count": 3,
   "id": "functioning-trademark",
   "metadata": {},
   "outputs": [],
   "source": [
    "def soucet(a,b):\n",
    "    return a+b\n",
    "\n",
    "seznam=[3,10]\n"
   ]
  },
  {
   "cell_type": "code",
   "execution_count": 4,
   "id": "representative-snake",
   "metadata": {},
   "outputs": [
    {
     "ename": "TypeError",
     "evalue": "soucet() missing 1 required positional argument: 'b'",
     "output_type": "error",
     "traceback": [
      "\u001b[0;31m---------------------------------------------------------------------------\u001b[0m",
      "\u001b[0;31mTypeError\u001b[0m                                 Traceback (most recent call last)",
      "\u001b[0;32m/tmp/ipykernel_23512/118580530.py\u001b[0m in \u001b[0;36m<module>\u001b[0;34m\u001b[0m\n\u001b[0;32m----> 1\u001b[0;31m \u001b[0msoucet\u001b[0m\u001b[0;34m(\u001b[0m\u001b[0mseznam\u001b[0m\u001b[0;34m)\u001b[0m\u001b[0;34m\u001b[0m\u001b[0;34m\u001b[0m\u001b[0m\n\u001b[0m",
      "\u001b[0;31mTypeError\u001b[0m: soucet() missing 1 required positional argument: 'b'"
     ]
    }
   ],
   "source": [
    "soucet(seznam)"
   ]
  },
  {
   "cell_type": "code",
   "execution_count": 5,
   "id": "reduced-application",
   "metadata": {},
   "outputs": [
    {
     "data": {
      "text/plain": [
       "13"
      ]
     },
     "execution_count": 5,
     "metadata": {},
     "output_type": "execute_result"
    }
   ],
   "source": [
    "soucet(*seznam)"
   ]
  },
  {
   "cell_type": "markdown",
   "id": "conscious-christmas",
   "metadata": {},
   "source": [
    "Pokud funkci předám seznam je celý seznam brán jako jeden argument. Pokud ale před seznam zařadím * seznam se rozbalí a každý jeho prvek je brán jako jeden argument.\n",
    "\n",
    "**Slovník** lze rozbalit pomocí operátoru `**`. Toto rozbalení se dá použít opět při volání funkce. Slovníkové klíče potom fungují jako jména parametrů předaných funkci.\n"
   ]
  },
  {
   "cell_type": "code",
   "execution_count": 7,
   "id": "square-choir",
   "metadata": {},
   "outputs": [],
   "source": [
    "def soucet(a,b):\n",
    "    return a+b"
   ]
  },
  {
   "cell_type": "code",
   "execution_count": 8,
   "id": "administrative-adobe",
   "metadata": {},
   "outputs": [
    {
     "data": {
      "text/plain": [
       "{'a': 11, 'b': 18}"
      ]
     },
     "execution_count": 8,
     "metadata": {},
     "output_type": "execute_result"
    }
   ],
   "source": [
    "slovnik={}\n",
    "slovnik['a']=11\n",
    "slovnik['b']=18\n",
    "slovnik"
   ]
  },
  {
   "cell_type": "code",
   "execution_count": 9,
   "id": "engaging-german",
   "metadata": {},
   "outputs": [
    {
     "data": {
      "text/plain": [
       "29"
      ]
     },
     "execution_count": 9,
     "metadata": {},
     "output_type": "execute_result"
    }
   ],
   "source": [
    "soucet(**slovnik)"
   ]
  },
  {
   "cell_type": "code",
   "execution_count": 10,
   "id": "lovely-voice",
   "metadata": {},
   "outputs": [
    {
     "ename": "TypeError",
     "evalue": "soucet() missing 1 required positional argument: 'b'",
     "output_type": "error",
     "traceback": [
      "\u001b[0;31m---------------------------------------------------------------------------\u001b[0m",
      "\u001b[0;31mTypeError\u001b[0m                                 Traceback (most recent call last)",
      "\u001b[0;32m/tmp/ipykernel_23512/2761506336.py\u001b[0m in \u001b[0;36m<module>\u001b[0;34m\u001b[0m\n\u001b[0;32m----> 1\u001b[0;31m \u001b[0msoucet\u001b[0m\u001b[0;34m(\u001b[0m\u001b[0mslovnik\u001b[0m\u001b[0;34m)\u001b[0m\u001b[0;34m\u001b[0m\u001b[0;34m\u001b[0m\u001b[0m\n\u001b[0m",
      "\u001b[0;31mTypeError\u001b[0m: soucet() missing 1 required positional argument: 'b'"
     ]
    }
   ],
   "source": [
    "soucet(slovnik)"
   ]
  }
 ],
 "metadata": {
  "kernelspec": {
   "display_name": "Python 3 (ipykernel)",
   "language": "python",
   "name": "python3"
  },
  "language_info": {
   "codemirror_mode": {
    "name": "ipython",
    "version": 3
   },
   "file_extension": ".py",
   "mimetype": "text/x-python",
   "name": "python",
   "nbconvert_exporter": "python",
   "pygments_lexer": "ipython3",
   "version": "3.9.2"
  }
 },
 "nbformat": 4,
 "nbformat_minor": 5
}
