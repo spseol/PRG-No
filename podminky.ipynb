{
 "cells": [
  {
   "cell_type": "markdown",
   "id": "danish-rabbit",
   "metadata": {},
   "source": [
    "# Podmínky\n",
    "\n",
    "\n",
    "Podmíněné vykonání části programu je realizované pomocí konstrukce `if`. Podmínku if lze zapsat třemi různými formami. Podmínku tvoří vždy jakýkoliv pravdivostní výraz.\n",
    "\n",
    "## jednoduchá:\n",
    "\n"
   ]
  },
  {
   "cell_type": "code",
   "execution_count": null,
   "id": "spectacular-northwest",
   "metadata": {},
   "outputs": [],
   "source": [
    "if cislo<0 :\n",
    "    cislo = -cislo"
   ]
  },
  {
   "cell_type": "markdown",
   "id": "touched-dancing",
   "metadata": {},
   "source": [
    "## alternativní"
   ]
  },
  {
   "cell_type": "code",
   "execution_count": null,
   "id": "functioning-phrase",
   "metadata": {},
   "outputs": [],
   "source": [
    "if cislo>0 :\n",
    "    x = cislo\n",
    "else:\n",
    "    x = - cislo"
   ]
  },
  {
   "cell_type": "markdown",
   "id": "medieval-coordinate",
   "metadata": {},
   "source": [
    "## Výcenásobná"
   ]
  },
  {
   "cell_type": "code",
   "execution_count": null,
   "id": "competitive-islam",
   "metadata": {},
   "outputs": [],
   "source": [
    "if vek>=0 and vek<=10 :\n",
    "    print \"Toto je dítě\"\n",
    "elif vek>=30 and vek<=50 :\n",
    "    print \"Toto je rodič\"\n",
    "elif vek>50 :\n",
    "    print \"Toto je prarodič\"\n",
    "else:\n",
    "    print \"Toto je mladík\""
   ]
  },
  {
   "cell_type": "markdown",
   "id": "vocational-finding",
   "metadata": {},
   "source": [
    "## Přiřazení podobné ternlnímu operátoru\n",
    "\n",
    "* [Ternální operátor](https://cs.wikipedia.org/wiki/Tern%C3%A1rn%C3%AD_oper%C3%A1tor_%28programov%C3%A1n%C3%AD%29)\n"
   ]
  },
  {
   "cell_type": "code",
   "execution_count": null,
   "id": "minute-publication",
   "metadata": {},
   "outputs": [],
   "source": [
    "# absolutní hodnota\n",
    "x = a if a>0 else -a"
   ]
  }
 ],
 "metadata": {
  "kernelspec": {
   "display_name": "Python 3 (ipykernel)",
   "language": "python",
   "name": "python3"
  },
  "language_info": {
   "codemirror_mode": {
    "name": "ipython",
    "version": 3
   },
   "file_extension": ".py",
   "mimetype": "text/x-python",
   "name": "python",
   "nbconvert_exporter": "python",
   "pygments_lexer": "ipython3",
   "version": "3.9.2"
  }
 },
 "nbformat": 4,
 "nbformat_minor": 5
}
